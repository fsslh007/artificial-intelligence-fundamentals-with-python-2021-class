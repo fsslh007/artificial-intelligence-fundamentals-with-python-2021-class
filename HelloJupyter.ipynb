{
 "cells": [
  {
   "cell_type": "code",
   "execution_count": 1,
   "id": "d553ee72",
   "metadata": {},
   "outputs": [
    {
     "name": "stdout",
     "output_type": "stream",
     "text": [
      "hello World\n"
     ]
    }
   ],
   "source": [
    "print(\"hello World\")"
   ]
  },
  {
   "cell_type": "code",
   "execution_count": 2,
   "id": "5634f52c",
   "metadata": {},
   "outputs": [],
   "source": [
    "x=5"
   ]
  },
  {
   "cell_type": "code",
   "execution_count": 3,
   "id": "900b9429",
   "metadata": {},
   "outputs": [
    {
     "name": "stdout",
     "output_type": "stream",
     "text": [
      "5\n"
     ]
    }
   ],
   "source": [
    "print(x)"
   ]
  },
  {
   "cell_type": "code",
   "execution_count": 4,
   "id": "c6c627bd",
   "metadata": {},
   "outputs": [
    {
     "name": "stdout",
     "output_type": "stream",
     "text": [
      "shift+enter = run\n"
     ]
    }
   ],
   "source": [
    "print(\"shift+enter = run\")"
   ]
  },
  {
   "cell_type": "code",
   "execution_count": 6,
   "id": "fee6b060",
   "metadata": {},
   "outputs": [
    {
     "name": "stdout",
     "output_type": "stream",
     "text": [
      "ctrl + enter = run the same cell\n"
     ]
    }
   ],
   "source": [
    "print(\"ctrl + enter = run the same cell\")"
   ]
  },
  {
   "cell_type": "markdown",
   "id": "1cfb0b3e",
   "metadata": {},
   "source": [
    "# This is a Level 1 Heading\n",
    "This is some paragraph text that describes the code below:"
   ]
  },
  {
   "cell_type": "code",
   "execution_count": 7,
   "id": "65d025b3",
   "metadata": {},
   "outputs": [
    {
     "name": "stdout",
     "output_type": "stream",
     "text": [
      "this is the code the was describes above\n"
     ]
    }
   ],
   "source": [
    "print(\"this is the code the was describes above\")"
   ]
  },
  {
   "cell_type": "code",
   "execution_count": null,
   "id": "4442fb01",
   "metadata": {},
   "outputs": [],
   "source": []
  }
 ],
 "metadata": {
  "kernelspec": {
   "display_name": "Python 3 (ipykernel)",
   "language": "python",
   "name": "python3"
  },
  "language_info": {
   "codemirror_mode": {
    "name": "ipython",
    "version": 3
   },
   "file_extension": ".py",
   "mimetype": "text/x-python",
   "name": "python",
   "nbconvert_exporter": "python",
   "pygments_lexer": "ipython3",
   "version": "3.9.7"
  }
 },
 "nbformat": 4,
 "nbformat_minor": 5
}
