{
 "cells": [
  {
   "cell_type": "code",
   "execution_count": 1,
   "id": "71dc2883-7756-4939-ac79-6b12eb56d2a8",
   "metadata": {},
   "outputs": [
    {
     "name": "stdout",
     "output_type": "stream",
     "text": [
      "hello world\n"
     ]
    }
   ],
   "source": [
    "print(\"hello world\")"
   ]
  },
  {
   "cell_type": "markdown",
   "id": "b6287cbb-9eb7-4e8c-a32e-ba68388241cc",
   "metadata": {},
   "source": [
    "##This is a Level 2 Heading\n",
    "\n",
    "Hello :)"
   ]
  },
  {
   "cell_type": "code",
   "execution_count": null,
   "id": "df5a1b30-a19f-480a-a19b-93f6d8c6f30c",
   "metadata": {},
   "outputs": [],
   "source": []
  }
 ],
 "metadata": {
  "kernelspec": {
   "display_name": "Python 3 (ipykernel)",
   "language": "python",
   "name": "python3"
  },
  "language_info": {
   "codemirror_mode": {
    "name": "ipython",
    "version": 3
   },
   "file_extension": ".py",
   "mimetype": "text/x-python",
   "name": "python",
   "nbconvert_exporter": "python",
   "pygments_lexer": "ipython3",
   "version": "3.9.7"
  }
 },
 "nbformat": 4,
 "nbformat_minor": 5
}
